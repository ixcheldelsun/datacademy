{
  "nbformat": 4,
  "nbformat_minor": 0,
  "metadata": {
    "colab": {
      "name": "Python_cardio.ipynb",
      "provenance": [],
      "collapsed_sections": [
        "RKoOeiWgDWLQ",
        "pVulRPlRXY2J"
      ],
      "authorship_tag": "ABX9TyN05BnB0V4cWmlkF5CyNyCq",
      "include_colab_link": true
    },
    "kernelspec": {
      "name": "python3",
      "display_name": "Python 3"
    },
    "language_info": {
      "name": "python"
    }
  },
  "cells": [
    {
      "cell_type": "markdown",
      "metadata": {
        "id": "view-in-github",
        "colab_type": "text"
      },
      "source": [
        "<a href=\"https://colab.research.google.com/github/ixcheldelsun/datacademy-python-cardio/blob/main/Python_cardio.ipynb\" target=\"_parent\"><img src=\"https://colab.research.google.com/assets/colab-badge.svg\" alt=\"Open In Colab\"/></a>"
      ]
    },
    {
      "cell_type": "code",
      "metadata": {
        "id": "s_NXsRPfy3rg"
      },
      "source": [
        "from IPython.display import clear_output"
      ],
      "execution_count": 143,
      "outputs": []
    },
    {
      "cell_type": "code",
      "metadata": {
        "id": "KRDxyb47xsZt"
      },
      "source": [
        "def ask_input():\n",
        "  while True:\n",
        "    try:\n",
        "      return bool(int(input(\"\\nIndica si quieres seguir (1) o no (0):\")))\n",
        "    except:\n",
        "      print(\"Ingrese una respuesta válida\")\n",
        "      continue"
      ],
      "execution_count": 132,
      "outputs": []
    },
    {
      "cell_type": "markdown",
      "metadata": {
        "id": "RKoOeiWgDWLQ"
      },
      "source": [
        "# Reto 1: área de un triángulo"
      ]
    },
    {
      "cell_type": "code",
      "metadata": {
        "id": "sfzlOqFVIuCq"
      },
      "source": [
        "import math"
      ],
      "execution_count": 4,
      "outputs": []
    },
    {
      "cell_type": "code",
      "metadata": {
        "id": "ihjmAXs5r4oh"
      },
      "source": [
        "def calculate_triangle_area(base, height):\n",
        "  general_area = (base*height)/2\n",
        "\n",
        "  equilateral_area = (math.sqrt(3)/4)*(base**2)\n",
        "\n",
        "  isosceles_side = math.sqrt(16*(general_area**2)+(base**4))/(2*base)\n",
        "  isosceles_area = base*math.sqrt((isosceles_side**2)-((base**2)/4))/2\n",
        "\n",
        "  # triangulo equilatero\n",
        "  if general_area == equilateral_area:\n",
        "    return (\"Equilatero\", general_area)\n",
        "  # triangulo isosceles\n",
        "  elif general_area == isosceles_area:\n",
        "    return (\"Isósceles\", general_area)\n",
        "  else:\n",
        "    return (\"Escaleno\", general_area)"
      ],
      "execution_count": 133,
      "outputs": []
    },
    {
      "cell_type": "code",
      "metadata": {
        "id": "J7XgyZb1DrdH"
      },
      "source": [
        "def main():\n",
        "  continue_program = True\n",
        "  while continue_program:\n",
        "    base = int(input(\"Ingresa la base del triángulo: \"))\n",
        "    height = int(input(\"Ingresa la altura del triángulo: \"))\n",
        "\n",
        "    result = calculate_triangle_area(base, height)\n",
        "\n",
        "    print(\"El triángulo es del tipo {} y su área es de: {} centímetros cuadrados\".format(result[0], result[1]))\n",
        "    continue_program = ask_input()\n",
        "    clear_output()\n",
        "  "
      ],
      "execution_count": 144,
      "outputs": []
    },
    {
      "cell_type": "code",
      "metadata": {
        "id": "OMP_ESiHyGGV"
      },
      "source": [
        "if __name__=='__main__':\n",
        "  main()"
      ],
      "execution_count": 145,
      "outputs": []
    },
    {
      "cell_type": "markdown",
      "metadata": {
        "id": "pVulRPlRXY2J"
      },
      "source": [
        "# Reto 2: Piedra, papel o tijera"
      ]
    },
    {
      "cell_type": "code",
      "metadata": {
        "id": "z03z0N7SZaTD"
      },
      "source": [
        "import random"
      ],
      "execution_count": 36,
      "outputs": []
    },
    {
      "cell_type": "code",
      "metadata": {
        "id": "r8bGHpnKZl9v"
      },
      "source": [
        "winner_choices = [(\"piedra\", \"tijera\"), (\"papel\", \"piedra\"), (\"tijeras\", \"papel\")]"
      ],
      "execution_count": 37,
      "outputs": []
    },
    {
      "cell_type": "code",
      "metadata": {
        "id": "sufrU-7lai9p"
      },
      "source": [
        "def start_game():\n",
        "  player_choice = input(\"Ingresa tu elección(piedra, papel o tijeras):\").lower()\n",
        "  return play(player_choice)"
      ],
      "execution_count": 51,
      "outputs": []
    },
    {
      "cell_type": "code",
      "metadata": {
        "id": "I-OkeRuRXcFj"
      },
      "source": [
        "def play(player_choice):\n",
        "  random_choice = random.choice(winner_choices)\n",
        "  computer_choice = random_choice[0]\n",
        "  if player_choice == random_choice[1]:\n",
        "    return (\"Perdiste ☠️\", False)\n",
        "  elif player_choice == computer_choice:\n",
        "    return (\"Empate!\", None)\n",
        "  else:\n",
        "    return (\"Ganaste! 🔥\", True)"
      ],
      "execution_count": 128,
      "outputs": []
    },
    {
      "cell_type": "code",
      "metadata": {
        "id": "j9zqFV53g5Np"
      },
      "source": [
        "def declare_winner(stats):\n",
        "  if sum(stats) == 2:\n",
        "    print(\"Has jugado 3 partidas y has ganado 2 de 3 veces. Eres el ganador de esta ronda!!\")\n",
        "  else:\n",
        "    print(\"Has jugado 3 partidas y has perdido 2 de 3 veces. Eres el perdedor de esta ronda :(\")\n",
        "  return [], 0"
      ],
      "execution_count": 125,
      "outputs": []
    },
    {
      "cell_type": "code",
      "metadata": {
        "id": "sPTZYLWcZjZ9"
      },
      "source": [
        "def main():\n",
        "  print(\"\\nVAMOS A JUGAR 🪨, 🧻 o ✂️!!\\n\")\n",
        "  continue_game = True\n",
        "  stats = []\n",
        "  game_number = 0\n",
        "  while continue_game:\n",
        "    result = start_game()\n",
        "    print(result[0])\n",
        "    if result[1] is not None:\n",
        "      game_number+=1\n",
        "      stats.append(result[1])\n",
        "    if game_number == 3:\n",
        "      stats, game_number = declare_winner(stats)\n",
        "      continue_game = ask_input()\n",
        "  print(\"Gracias por jugar! Nos vemos!\")"
      ],
      "execution_count": 130,
      "outputs": []
    },
    {
      "cell_type": "code",
      "metadata": {
        "colab": {
          "base_uri": "https://localhost:8080/"
        },
        "id": "pEy-sBw8dl8l",
        "outputId": "d56677c2-0765-4337-9d17-16facc0a0de0"
      },
      "source": [
        "if __name__ == \"__main__\":\n",
        "  main()"
      ],
      "execution_count": 129,
      "outputs": [
        {
          "output_type": "stream",
          "text": [
            "\n",
            "VAMOS A JUGAR 🪨, 🧻 o ✂️!!\n",
            "\n",
            "Ingresa tu elección(piedra, papel o tijeras):papel\n",
            "Ganaste! 🔥\n",
            "Ingresa tu elección(piedra, papel o tijeras):papel\n",
            "Perdiste ☠️\n",
            "Ingresa tu elección(piedra, papel o tijeras):papel\n",
            "Empate!\n",
            "Ingresa tu elección(piedra, papel o tijeras):papel\n",
            "Perdiste ☠️\n",
            "Has jugado 3 partidas y has perdido 2 de 3 veces. Eres el perdedor de esta ronda :(\n",
            "\n",
            "Indica si quieres seguir (1) o no (0):1\n",
            "Ingresa tu elección(piedra, papel o tijeras):0\n",
            "Ganaste! 🔥\n",
            "Ingresa tu elección(piedra, papel o tijeras):papel\n",
            "Perdiste ☠️\n",
            "Ingresa tu elección(piedra, papel o tijeras):papel\n",
            "Empate!\n",
            "Ingresa tu elección(piedra, papel o tijeras):papel\n",
            "Ganaste! 🔥\n",
            "Has jugado 3 partidas y has ganado 2 de 3 veces. Eres el ganador de esta ronda!!\n",
            "\n",
            "Indica si quieres seguir (1) o no (0):0\n",
            "\n",
            "Gracias por jugar! Nos vemos!\n"
          ],
          "name": "stdout"
        }
      ]
    },
    {
      "cell_type": "code",
      "metadata": {
        "colab": {
          "base_uri": "https://localhost:8080/"
        },
        "id": "Paqwpaifa1g4",
        "outputId": "9b08f98c-369c-4085-b98d-0f509ba66359"
      },
      "source": [
        "bool(int(input(\"Indica si quieres seguir (1) o no (0):\")))"
      ],
      "execution_count": 50,
      "outputs": [
        {
          "output_type": "stream",
          "text": [
            "Indica si quieres seguir (1) o no (0):0\n"
          ],
          "name": "stdout"
        },
        {
          "output_type": "execute_result",
          "data": {
            "text/plain": [
              "False"
            ]
          },
          "metadata": {
            "tags": []
          },
          "execution_count": 50
        }
      ]
    },
    {
      "cell_type": "markdown",
      "metadata": {
        "id": "52GJahPQzovz"
      },
      "source": [
        "# Reto 3: Conversor de millas a kilómetros"
      ]
    },
    {
      "cell_type": "code",
      "metadata": {
        "id": "b7vy51_x64vv"
      },
      "source": [
        "options = [('millas', 'kms'), ('kms', 'millas')]"
      ],
      "execution_count": 175,
      "outputs": []
    },
    {
      "cell_type": "code",
      "metadata": {
        "id": "UOeGzlz2zzFG"
      },
      "source": [
        "def convert_length(length, length_type):\n",
        "  if length_type == options[0]:\n",
        "    return length*1.609344\n",
        "  else:\n",
        "    return length/1.609344"
      ],
      "execution_count": 168,
      "outputs": []
    },
    {
      "cell_type": "code",
      "metadata": {
        "id": "PAonu1WW2ICz"
      },
      "source": [
        "def ask_options():\n",
        "   while True:\n",
        "    try:\n",
        "      return int(input(\"Ingresa: \\n(0) Millas -> Kms\\n(1)Kms -> Millas:\\nRespuesta: \"))\n",
        "    except:\n",
        "      print(\"Ingrese una respuesta válida\")\n",
        "      continue"
      ],
      "execution_count": 182,
      "outputs": []
    },
    {
      "cell_type": "code",
      "metadata": {
        "id": "mVI8mToI0cf0"
      },
      "source": [
        "def main():\n",
        "  print(\"BIENVENIDO AL CONVERSOR MILLAS-KMS\")\n",
        "  continue_program = True\n",
        "  while continue_program:\n",
        "    option = ask_options()\n",
        "    try:\n",
        "      length_type = options[option]\n",
        "    except:\n",
        "      continue\n",
        "    length = int(input(\"Ingresa la cantidad de {}: \".format(length_type[0])))\n",
        "    result = convert_length(length, length_type)\n",
        "    print(\"{} {} equivalen a {} {}.\".format(length, length_type[0], result, length_type[1]))\n",
        "    continue_program = ask_input()\n",
        "    clear_output()"
      ],
      "execution_count": 180,
      "outputs": []
    },
    {
      "cell_type": "code",
      "metadata": {
        "id": "iFk7wDwt1haQ"
      },
      "source": [
        "if __name__=='__main__':\n",
        "  main()"
      ],
      "execution_count": 181,
      "outputs": []
    },
    {
      "cell_type": "markdown",
      "metadata": {
        "id": "6SV3l8407gpL"
      },
      "source": [
        "# Reto 4: Calculadora de volúmenes"
      ]
    },
    {
      "cell_type": "code",
      "metadata": {
        "id": "l0zp98E5GTgc"
      },
      "source": [
        "def get_sphere_volume():\n",
        "  radius = int(input(\"Ingrese el radio: \"))\n",
        "  result = math.pi*(radius**3)*(4/3)\n",
        "  print(\"El volumen de la esfera es de {} centímetros cúbicos\".format(result))"
      ],
      "execution_count": 212,
      "outputs": []
    },
    {
      "cell_type": "code",
      "metadata": {
        "id": "YTWFyyRo7muo"
      },
      "source": [
        "def get_cilinder_volume():\n",
        "  radius = int(input(\"Ingrese el radio: \"))\n",
        "  height = int(input(\"Ingrese la altura: \"))\n",
        "  result = math.pi*(radius**2)*height\n",
        "  print(\"El volumen del cilindro es de {} centímetros cúbicos\".format(result))"
      ],
      "execution_count": 196,
      "outputs": []
    },
    {
      "cell_type": "code",
      "metadata": {
        "id": "LBo7wzp9AsdA"
      },
      "source": [
        "def ask_figure():\n",
        "   while True:\n",
        "    try:\n",
        "      return int(input(\"Ingrese la figura que desea: \\n(0) Cilindro\\t\\t(1)Esfera\\nRespuesta: \"))\n",
        "    except:\n",
        "      print(\"Ingrese una respuesta válida\")\n",
        "      continue"
      ],
      "execution_count": 201,
      "outputs": []
    },
    {
      "cell_type": "code",
      "metadata": {
        "id": "cJ5OJrl6AgAW"
      },
      "source": [
        "def main():\n",
        "  print(\"BIENVENIDO A LA CALCULADORA DE VOLUMENES\")\n",
        "  continue_program = True\n",
        "  figures = [\n",
        "      get_cilinder_volume,\n",
        "      get_sphere_volume\n",
        "  ]\n",
        "  while continue_program:\n",
        "    figures[ask_figure()]()\n",
        "    continue_program = ask_input()\n",
        "    clear_output()"
      ],
      "execution_count": 219,
      "outputs": []
    },
    {
      "cell_type": "code",
      "metadata": {
        "id": "phK9gaK5EOWV"
      },
      "source": [
        "if __name__==\"__main__\":\n",
        "  main()"
      ],
      "execution_count": 234,
      "outputs": []
    },
    {
      "cell_type": "markdown",
      "metadata": {
        "id": "JtKj_jZVG1lf"
      },
      "source": [
        "# Reto 5: Rangos cambiantes"
      ]
    },
    {
      "cell_type": "code",
      "metadata": {
        "id": "mz2wSvgFHEr7"
      },
      "source": [
        "def ask_for_number(message):\n",
        "   while True:\n",
        "    try:\n",
        "      return int(input(message))\n",
        "    except:\n",
        "      print(\"Ingrese una respuesta válida\")\n",
        "      continue"
      ],
      "execution_count": 223,
      "outputs": []
    },
    {
      "cell_type": "code",
      "metadata": {
        "id": "ubuzHfxsHcnp"
      },
      "source": [
        "def check_given_numbers():\n",
        "  while True:\n",
        "    max = ask_for_number(\"Ingrese un límite superior: \")\n",
        "    min = ask_for_number(\"Ingrese un límite inferior: \")\n",
        "    if max <= min: \n",
        "      print(\"El valor máximo no puede ser menor ni igual al valor mínimo dado.\\n\")\n",
        "      continue\n",
        "    value = ask_for_number(\"Ingrese un número cualquiera: \")\n",
        "    return max, min, value"
      ],
      "execution_count": 232,
      "outputs": []
    },
    {
      "cell_type": "code",
      "metadata": {
        "id": "g2x_wTfZHaHi"
      },
      "source": [
        "def main():\n",
        "  print(\"BIENVENIDO A LOS RANGOS CAMBIANTES\")\n",
        "  continue_program = True\n",
        "  while continue_program:\n",
        "    max, min, value = check_given_numbers()\n",
        "    if value < max and value > min:\n",
        "      print(\"→ {} ←\".format(value))\n",
        "    else: \n",
        "      print(\"El número dado no está en el rango dado\")\n",
        "      clear_output()\n",
        "      continue\n",
        "    continue_program = ask_input()\n",
        "    clear_output()"
      ],
      "execution_count": 229,
      "outputs": []
    },
    {
      "cell_type": "code",
      "metadata": {
        "id": "tClWwZNpJFpc"
      },
      "source": [
        "if __name__==\"__main__\":\n",
        "  main()"
      ],
      "execution_count": 233,
      "outputs": []
    }
  ]
}